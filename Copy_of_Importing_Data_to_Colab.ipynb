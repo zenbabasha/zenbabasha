{
  "nbformat": 4,
  "nbformat_minor": 0,
  "metadata": {
    "colab": {
      "provenance": [],
      "toc_visible": true,
      "authorship_tag": "ABX9TyOZIh7i6AHsSaRAJo7pn/n4",
      "include_colab_link": true
    },
    "kernelspec": {
      "name": "python3",
      "display_name": "Python 3"
    },
    "language_info": {
      "name": "python"
    }
  },
  "cells": [
    {
      "cell_type": "markdown",
      "metadata": {
        "id": "view-in-github",
        "colab_type": "text"
      },
      "source": [
        "<a href=\"https://colab.research.google.com/github/zenbabasha/zenbabasha/blob/master/Copy_of_Importing_Data_to_Colab.ipynb\" target=\"_parent\"><img src=\"https://colab.research.google.com/assets/colab-badge.svg\" alt=\"Open In Colab\"/></a>"
      ]
    },
    {
      "cell_type": "markdown",
      "source": [
        "# Public Link"
      ],
      "metadata": {
        "id": "6oadAMYRHtvS"
      }
    },
    {
      "cell_type": "code",
      "source": [
        "!wget https://github.com/datasciencedojo/datasets/blob/master/titanic.csv\n",
        "import pandas as pd\n",
        "pd.read_csv('titanic.csv', sep='\\t').head()"
      ],
      "metadata": {
        "id": "yyY1yppJHuQj"
      },
      "execution_count": null,
      "outputs": []
    },
    {
      "cell_type": "markdown",
      "source": [
        "# Google drive"
      ],
      "metadata": {
        "id": "cYJzncdnUTgs"
      }
    },
    {
      "cell_type": "code",
      "source": [
        "from google.colab import drive\n",
        "drive.mount('/content/drive')\n",
        "import pandas as pd\n",
        "df = pd.read_csv('/content/drive/My Drive/employees.csv', sep=',').head()\n",
        "df.head()"
      ],
      "metadata": {
        "id": "TnNsDXxBUYE7"
      },
      "execution_count": null,
      "outputs": []
    },
    {
      "cell_type": "markdown",
      "source": [
        "# Github link"
      ],
      "metadata": {
        "id": "wds11wumUYyV"
      }
    },
    {
      "cell_type": "code",
      "source": [
        "!git clone https://github.com/zenbabasha/zenbabasha.git"
      ],
      "metadata": {
        "id": "WQdtZLbdUhoG"
      },
      "execution_count": null,
      "outputs": []
    },
    {
      "cell_type": "code",
      "source": [
        "import pandas as pd\n",
        "df=pd.read_csv('/content/zenbabasha/employees.csv', sep=',')\n",
        "df.head()"
      ],
      "metadata": {
        "id": "vXqu4PNbf_ZN"
      },
      "execution_count": null,
      "outputs": []
    },
    {
      "cell_type": "markdown",
      "source": [
        "# local drive"
      ],
      "metadata": {
        "id": "OlXofpO8gasU"
      }
    },
    {
      "cell_type": "code",
      "source": [
        "df=pd.read_csv('/content/employees.csv', sep=',')\n",
        "df.head(10)"
      ],
      "metadata": {
        "id": "yI-cpVVjgepc"
      },
      "execution_count": null,
      "outputs": []
    },
    {
      "cell_type": "markdown",
      "source": [
        "# New ***section***"
      ],
      "metadata": {
        "id": "zVoUgtwunGkL"
      }
    },
    {
      "cell_type": "code",
      "source": [],
      "metadata": {
        "id": "ONpR6xJdnNnF"
      },
      "execution_count": null,
      "outputs": []
    }
  ]
}